{
 "cells": [
  {
   "cell_type": "code",
   "execution_count": 1,
   "id": "cab3a9a0-1cd0-4c18-a361-38a478d8d394",
   "metadata": {},
   "outputs": [],
   "source": [
    "import pickle\n",
    "from flask import Flask\n",
    "from flask import request\n",
    "from flask import render_template\n",
    "import joblib"
   ]
  },
  {
   "cell_type": "code",
   "execution_count": 2,
   "id": "d6256fdb-d535-4a32-8074-8a26d6825237",
   "metadata": {},
   "outputs": [],
   "source": [
    "app=Flask(__name__)\n",
    "model=joblib.load('model_predict')\n",
    "\n",
    "@app.route('/')\n",
    "def hello(name=None):\n",
    "    return render_template('index.html',name=name)\n",
    "\n",
    "@app.route('/results',methods=['GET','POST'])\n",
    "def get_value():\n",
    "    if request.method=='POST':\n",
    "        rm=float(request.form.get('rm'))\n",
    "        pt=float(request.form.get('pt'))\n",
    "        lstat=float(request.form.get('lstat'))\n",
    "        predict_value=model.predict([[rm,pt,lstat]])\n",
    "    return render_template('results.html',rm=rm,pt=pt,lstat=lstat,prediction=predict_value)"
   ]
  },
  {
   "cell_type": "code",
   "execution_count": null,
   "id": "5147bd49-f8e8-44f0-97a7-51f93c62ad6f",
   "metadata": {},
   "outputs": [
    {
     "name": "stdout",
     "output_type": "stream",
     "text": [
      " * Serving Flask app '__main__'\n",
      " * Debug mode: off\n"
     ]
    },
    {
     "name": "stderr",
     "output_type": "stream",
     "text": [
      "WARNING: This is a development server. Do not use it in a production deployment. Use a production WSGI server instead.\n",
      " * Running on http://127.0.0.1:5000\n",
      "Press CTRL+C to quit\n"
     ]
    }
   ],
   "source": [
    "if __name__=='__main__':\n",
    "    app.run()\n"
   ]
  },
  {
   "cell_type": "code",
   "execution_count": null,
   "id": "dd384166-af50-41db-8573-c221e8906f9f",
   "metadata": {},
   "outputs": [],
   "source": []
  }
 ],
 "metadata": {
  "kernelspec": {
   "display_name": "Python 3 (ipykernel)",
   "language": "python",
   "name": "python3"
  },
  "language_info": {
   "codemirror_mode": {
    "name": "ipython",
    "version": 3
   },
   "file_extension": ".py",
   "mimetype": "text/x-python",
   "name": "python",
   "nbconvert_exporter": "python",
   "pygments_lexer": "ipython3",
   "version": "3.11.7"
  }
 },
 "nbformat": 4,
 "nbformat_minor": 5
}
